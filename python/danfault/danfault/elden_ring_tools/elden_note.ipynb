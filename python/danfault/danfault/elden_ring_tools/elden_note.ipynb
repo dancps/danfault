{
 "cells": [
  {
   "cell_type": "markdown",
   "metadata": {},
   "source": [
    "The idea here is:\n",
    "\n",
    "I have 21 types of items, and each type gives me an amount of runes if I use the item. Given the quantity I have of each one of those items, I want to decide how many of them I can use in order to level up. I can level up when I have a determined number of runes, which I call L. \n",
    "\n",
    "Since I can have different amount of items, how can I calculate the optimal number of items that I should use to have the closest runes value to L. The result should be greater if the value is not equal to L"
   ]
  },
  {
   "cell_type": "code",
   "execution_count": 29,
   "metadata": {},
   "outputs": [
    {
     "name": "stdout",
     "output_type": "stream",
     "text": [
      "Lands Between Rune 3000\n",
      "Golden Rune [1] 200\n",
      "Golden Rune [2] 400\n",
      "Golden Rune [3] 800\n",
      "Golden Rune [4] 1200\n",
      "Golden Rune [5] 1600\n",
      "Golden Rune [6] 2000\n",
      "Golden Rune [7] 2500\n",
      "Golden Rune [8] 3000\n",
      "Golden Rune [9] 3800\n",
      "Golden Rune [10] 5000\n",
      "Golden Rune [11] 6250\n",
      "Golden Rune [12] 7500\n",
      "Golden Rune [13] 10000\n",
      "Numen's Rune 12500\n",
      "Hero's Rune [1] 15000\n",
      "Hero's Rune [2] 20000\n",
      "Hero's Rune [3] 25000\n",
      "Hero's Rune [4] 30000\n",
      "Hero's Rune [5] 35000\n",
      "Lord's Rune 50000\n"
     ]
    },
    {
     "data": {
      "text/plain": [
       "21"
      ]
     },
     "execution_count": 29,
     "metadata": {},
     "output_type": "execute_result"
    }
   ],
   "source": [
    "\n",
    "from dataclasses import dataclass\n",
    "\n",
    "@dataclass\n",
    "class Rune:\n",
    "    name: str\n",
    "    value: int\n",
    "    quantity: int = None\n",
    "\n",
    "def create_table():\n",
    "    pass\n",
    "\n",
    "possible_runes = [\n",
    "    \"Lands Between Rune -  3000\",\n",
    "    \"Golden Rune [1] -  200\",\n",
    "    \"Golden Rune [2] -  400\",\n",
    "    \"Golden Rune [3] - 800\",\n",
    "    \"Golden Rune [4] -  1.200\",\n",
    "    \"Golden Rune [5] -  1.600\",\n",
    "    \"Golden Rune [6] - 2.000\",\n",
    "    \"Golden Rune [7] -  2.500\",\n",
    "    \"Golden Rune [8] - 3.000\",\n",
    "    \"Golden Rune [9] - 3.800\",\n",
    "    \"Golden Rune [10] -  5.000\",\n",
    "    \"Golden Rune [11] - 6.250\",\n",
    "    \"Golden Rune [12] - 7.500\",\n",
    "    \"Golden Rune [13] - 10.000\",\n",
    "    \"Numen's Rune - 12.500\",\n",
    "    \"Hero's Rune [1] - 15.000\",\n",
    "    \"Hero's Rune [2] -  20.000\",\n",
    "    \"Hero's Rune [3] -  25.000\",\n",
    "    \"Hero's Rune [4] -  30.000\",\n",
    "    \"Hero's Rune [5] -  35.000\",\n",
    "    \"Lord's Rune -  50.000\",\n",
    "]\n",
    "\n",
    "rune_dict = {}\n",
    "for runetxt in possible_runes:\n",
    "    # print(runetxt)\n",
    "    value = int(runetxt.split(\" - \")[1].replace(\".\", \"\").replace(\",\", \"\"))\n",
    "    name = runetxt.split(\" - \")[0]\n",
    "    print(name, value)\n",
    "    rune_dict[name] = value\n",
    "\n",
    "availabe_runes = [Rune(name, value)for name, value in rune_dict.items()]\n",
    "len(availabe_runes)\n",
    "\n",
    "\n"
   ]
  },
  {
   "cell_type": "code",
   "execution_count": null,
   "metadata": {},
   "outputs": [],
   "source": [
    "def calculate_runes(rune_name, quantity):"
   ]
  },
  {
   "cell_type": "code",
   "execution_count": 28,
   "metadata": {},
   "outputs": [
    {
     "name": "stdout",
     "output_type": "stream",
     "text": [
      "Dash app running on http://127.0.0.1:8050/\n"
     ]
    },
    {
     "name": "stdout",
     "output_type": "stream",
     "text": [
      "Declared Runes: []\n",
      "Declared Runes: []\n",
      "Declared Runes: []\n",
      "Declared Runes: [('Golden Rune [1]', 2)]\n",
      "Declared Runes: [('Golden Rune [1]', 21)]\n",
      "Declared Runes: [('Golden Rune [1]', 212)]\n",
      "Declared Runes: [('Golden Rune [1]', 212)]\n",
      "Declared Runes: [('Golden Rune [1]', 212)]\n",
      "Declared Runes: [('Golden Rune [1]', 212), ('Golden Rune [13]', 2)]\n",
      "Declared Runes: [('Golden Rune [1]', 212), ('Golden Rune [13]', 2)]\n",
      "Declared Runes: []\n",
      "Declared Runes: []\n",
      "Declared Runes: []\n",
      "Declared Runes: [('Golden Rune [1]', 2)]\n",
      "Declared Runes: [('Golden Rune [1]', 2)]\n",
      "Declared Runes: [('Golden Rune [1]', 2)]\n",
      "Declared Runes: [('Golden Rune [1]', 2)]\n",
      "Declared Runes: [('Golden Rune [1]', 2), ('Golden Rune [3]', 6)]\n",
      "Declared Runes: [('Golden Rune [1]', 2), ('Golden Rune [3]', 6)]\n"
     ]
    }
   ],
   "source": [
    "import dash\n",
    "from dash import dcc, html\n",
    "from dash.dependencies import Input, Output, State\n",
    "import dash_bootstrap_components as dbc\n",
    "\n",
    "app = dash.Dash(__name__, external_stylesheets=[dbc.themes.BOOTSTRAP])\n",
    "\n",
    "app.layout = html.Div([\n",
    "    html.H1(\"Rune Dashboard\"),\n",
    "    html.Div(id='rune-container', children=[]),\n",
    "    html.Button('Add Rune', id='add-rune', n_clicks=0),\n",
    "    html.Div(id='total-value', style={'margin-top': '20px'})\n",
    "])\n",
    "\n",
    "# Store declared runes in dcc.Store to persist data across page refreshes\n",
    "\n",
    "\n",
    "@app.callback(\n",
    "    Output('rune-container', 'children'),\n",
    "    Input('add-rune', 'n_clicks'),\n",
    "    State('rune-container', 'children')\n",
    ")\n",
    "def display_dropdowns(n_clicks, children):\n",
    "    dcc.Store(id='stored-runes', data=[]),\n",
    "    if n_clicks == 0:\n",
    "        status = html.Div([\n",
    "            html.P('Rune', style={'display': 'inline-block', 'margin-right': '10px'}),\n",
    "            dcc.Input(\n",
    "            id='current-runes',\n",
    "            type='number',\n",
    "            placeholder='Number of runes that you currently have',\n",
    "            min=0,\n",
    "            step=10,\n",
    "            style={'width': '40%', 'display': 'inline-block'}\n",
    "            )\n",
    "        ], style={'display': 'flex', 'align-items': 'center', 'margin-bottom': '10px'})\n",
    "        children.append(status)\n",
    "        status = html.Div([\n",
    "            html.P('Next level value', style={'display': 'inline-block', 'margin-right': '10px'}),\n",
    "            dcc.Input(\n",
    "            id='next-level',\n",
    "            type='number',\n",
    "            placeholder='Amount of runes to upgrade to next level',\n",
    "            min=0,\n",
    "            step=10,\n",
    "            style={'width': '40%', 'display': 'inline-block'}\n",
    "            )\n",
    "        ], style={'display': 'flex', 'align-items': 'center', 'margin-bottom': '10px'})\n",
    "        children.append(status)\n",
    "    new_dropdown = html.Div([\n",
    "        \n",
    "        dcc.Dropdown(\n",
    "            id={'type': 'rune-dropdown', 'index': n_clicks},\n",
    "            options=[{'label': rune.name, 'value': rune.name} for rune in availabe_runes],\n",
    "            placeholder=\"Select a rune\",\n",
    "            style={'width': '70%', 'display': 'inline-block', 'margin-right': '10px', 'margin-left': '10px'}\n",
    "        ),\n",
    "        dcc.Input(\n",
    "            id={'type': 'rune-quantity', 'index': n_clicks},\n",
    "            type='number',\n",
    "            placeholder='Quantity',\n",
    "            min=0,\n",
    "            step=1,\n",
    "            style={'width': '20%', 'display': 'inline-block'}\n",
    "        ),\n",
    "        html.Button('Remove Rune', id='remove-rune', n_clicks=0),\n",
    "    ], style={'display': 'flex', 'align-items': 'center', 'margin-bottom': '1px', 'margin-left': '0px'})\n",
    "    children.append(new_dropdown)\n",
    "\n",
    "\n",
    "    return children\n",
    "\n",
    "@app.callback(\n",
    "    Output('total-value', 'children'),\n",
    "    Input({'type': 'rune-dropdown', 'index': dash.dependencies.ALL}, 'value'),\n",
    "    Input({'type': 'rune-quantity', 'index': dash.dependencies.ALL}, 'value')\n",
    ")\n",
    "\n",
    "def update_total_value(selected_runes, quantities):\n",
    "    total_value = 0\n",
    "    declared_runes = []\n",
    "    for rune_name, quantity in zip(selected_runes, quantities):\n",
    "        if rune_name and quantity:\n",
    "            total_value += rune_dict[rune_name] * quantity\n",
    "            declared_runes.append((rune_name, quantity))\n",
    "    print(\"Declared Runes:\", declared_runes)\n",
    "    # global declared_runes\n",
    "    app.declared_runes = declared_runes\n",
    "    return f'Total Value: {total_value}'\n",
    "\n",
    "app.run(jupyter_mode=\"external\")\n",
    "# if __name__ == '__main__':\n",
    "#     app.run_server(debug=True)"
   ]
  },
  {
   "cell_type": "code",
   "execution_count": 35,
   "metadata": {},
   "outputs": [
    {
     "data": {
      "text/plain": [
       "[('Golden Rune [1]', 2), ('Golden Rune [3]', 6)]"
      ]
     },
     "execution_count": 35,
     "metadata": {},
     "output_type": "execute_result"
    }
   ],
   "source": [
    "app.declared_runes"
   ]
  },
  {
   "cell_type": "code",
   "execution_count": null,
   "metadata": {},
   "outputs": [],
   "source": []
  },
  {
   "cell_type": "code",
   "execution_count": null,
   "metadata": {},
   "outputs": [],
   "source": []
  },
  {
   "cell_type": "code",
   "execution_count": null,
   "metadata": {},
   "outputs": [],
   "source": []
  },
  {
   "cell_type": "code",
   "execution_count": null,
   "metadata": {},
   "outputs": [],
   "source": []
  },
  {
   "cell_type": "code",
   "execution_count": 4,
   "metadata": {},
   "outputs": [
    {
     "name": "stdout",
     "output_type": "stream",
     "text": [
      "Item(nome='machado', preco_unitario=10.49, quantidade=12)\n",
      "125.88\n"
     ]
    }
   ],
   "source": [
    "from dataclasses import dataclass\n",
    "\n",
    "@dataclass\n",
    "class Item:\n",
    "    nome: str\n",
    "    preco_unitario: float\n",
    "    quantidade: int = 0\n",
    "\n",
    "    def custo_total(self) -> float:\n",
    "        return self.preco_unitario * self.quantidade\n",
    "\n",
    "item = Item('machado', 10.49, 12)\n",
    "print(repr(item))\n",
    "# Saida: Item(nome=\"machado\", preco_unitario=10.49, quantidade=12)\n",
    "print(item.custo_total())\n",
    "# Saida: 125.88"
   ]
  },
  {
   "cell_type": "code",
   "execution_count": 19,
   "metadata": {},
   "outputs": [
    {
     "name": "stdout",
     "output_type": "stream",
     "text": [
      "Welcome to the CBC MILP Solver \n",
      "Version: 2.10.3 \n",
      "Build Date: Dec 15 2019 \n",
      "\n",
      "command line - /home/dancps/conda/envs/dan/lib/python3.12/site-packages/pulp/solverdir/cbc/linux/64/cbc /tmp/8a357aeb91894ad7bdfd7c911df3a7bb-pulp.mps -max -timeMode elapsed -branch -printingOptions all -solution /tmp/8a357aeb91894ad7bdfd7c911df3a7bb-pulp.sol (default strategy 1)\n",
      "At line 2 NAME          MODEL\n",
      "At line 3 ROWS\n",
      "At line 9 COLUMNS\n",
      "At line 97 RHS\n",
      "At line 102 BOUNDS\n",
      "At line 124 ENDATA\n",
      "Problem MODEL has 4 rows, 21 columns and 24 elements\n",
      "Coin0008I MODEL read with 0 errors\n",
      "Option for timeMode changed from cpu to elapsed\n",
      "Problem is infeasible - 0.00 seconds\n",
      "Option for printingOptions changed from normal to all\n",
      "Total time (CPU seconds):       0.00   (Wallclock seconds):       0.00\n",
      "\n",
      "Status: Infeasible\n",
      "Optimal number of items to use:\n",
      "Lands Between Rune: 0.0\n",
      "Golden Rune [1]: 2.0\n",
      "Golden Rune [2]: 3.0\n",
      "Golden Rune [3]: 0.0\n",
      "Golden Rune [4]: 0.0\n",
      "Golden Rune [5]: 0.0\n",
      "Golden Rune [6]: 0.0\n",
      "Golden Rune [7]: 0.0\n",
      "Golden Rune [8]: 0.0\n",
      "Golden Rune [9]: 0.0\n",
      "Golden Rune [10]: 0.0\n",
      "Golden Rune [11]: 0.0\n",
      "Golden Rune [12]: 0.0\n",
      "Golden Rune [13]: 0.0\n",
      "Numen's Rune: 0.0\n",
      "Hero's Rune [1]: 0.0\n",
      "Hero's Rune [2]: 0.0\n",
      "Hero's Rune [3]: 0.0\n",
      "Hero's Rune [4]: 3.28\n",
      "Hero's Rune [5]: 0.0\n",
      "Lord's Rune: 0.0\n",
      "Total runes value: 100000.0\n"
     ]
    }
   ],
   "source": [
    "import pulp\n",
    "# Use declared runes from the app\n",
    "declared_runes = getattr(app, 'declared_runes', [])\n",
    "\n",
    "\n",
    "# Define the problem\n",
    "prob = pulp.LpProblem(\"Rune_Optimization\", pulp.LpMaximize)\n",
    "\n",
    "# Define the decision variables\n",
    "item_vars = pulp.LpVariable.dicts(\"Item\", range(len(availabe_runes)), lowBound=0, cat='Integer')\n",
    "\n",
    "# Define constraints based on declared runes\n",
    "for rune_name, quantity in declared_runes:\n",
    "    rune_index = next(i for i, rune in enumerate(availabe_runes) if rune.name == rune_name)\n",
    "    prob += item_vars[rune_index] == quantity\n",
    "\n",
    "# Define the objective function\n",
    "prob += pulp.lpSum([rune.value * item_vars[i] for i, rune in enumerate(availabe_runes)])\n",
    "\n",
    "# Define the constraint\n",
    "L = 100000  # Example value for L, you can change it as needed\n",
    "prob += pulp.lpSum([rune.value * item_vars[i] for i, rune in enumerate(availabe_runes)]) >= L\n",
    "\n",
    "# Solve the problem\n",
    "prob.solve()\n",
    "\n",
    "# Print the results\n",
    "print(\"Status:\", pulp.LpStatus[prob.status])\n",
    "print(\"Optimal number of items to use:\")\n",
    "for i, rune in enumerate(availabe_runes):\n",
    "    print(f\"{rune.name}: {item_vars[i].varValue}\")\n",
    "\n",
    "print(\"Total runes value:\", pulp.value(prob.objective))"
   ]
  },
  {
   "cell_type": "code",
   "execution_count": 43,
   "metadata": {},
   "outputs": [
    {
     "name": "stdout",
     "output_type": "stream",
     "text": [
      "Golden Rune [1] 2\n",
      "Golden Rune [3] 6\n",
      "Welcome to the CBC MILP Solver \n",
      "Version: 2.10.3 \n",
      "Build Date: Dec 15 2019 \n",
      "\n",
      "command line - /home/dancps/conda/envs/dan/lib/python3.12/site-packages/pulp/solverdir/cbc/linux/64/cbc /tmp/2c2496ce47154db096ce1a4cb1651037-pulp.mps -max -timeMode elapsed -branch -printingOptions all -solution /tmp/2c2496ce47154db096ce1a4cb1651037-pulp.sol (default strategy 1)\n",
      "At line 2 NAME          MODEL\n",
      "At line 3 ROWS\n",
      "At line 8 COLUMNS\n",
      "At line 95 RHS\n",
      "At line 99 BOUNDS\n",
      "At line 121 ENDATA\n",
      "Problem MODEL has 3 rows, 21 columns and 23 elements\n",
      "Coin0008I MODEL read with 0 errors\n",
      "Option for timeMode changed from cpu to elapsed\n",
      "Problem is unbounded - 0.00 seconds\n",
      "Option for printingOptions changed from normal to all\n",
      "Total time (CPU seconds):       0.00   (Wallclock seconds):       0.01\n",
      "\n",
      "Status: Unbounded\n",
      "Optimal number of items to use:\n",
      "Total runes value: 0.0\n"
     ]
    }
   ],
   "source": [
    "# Define the problem\n",
    "L = 3502\n",
    "prob = pulp.LpProblem(\"Rune_Optimization\", pulp.LpMaximize)\n",
    "\n",
    "# Define the decision variables\n",
    "item_vars = pulp.LpVariable.dicts(\"Item\", range(len(availabe_runes)), lowBound=0, cat='Integer')\n",
    "\n",
    "# Define constraints based on declared runes\n",
    "for rune_name, quantity in app.declared_runes:\n",
    "    print(rune_name, quantity)\n",
    "    rune_index = next(i for i, rune in enumerate(availabe_runes) if rune.name == rune_name)\n",
    "    prob += item_vars[rune_index] <= quantity\n",
    "\n",
    "# Define the objective function\n",
    "prob += pulp.lpSum([availabe_runes[i].value * item_vars[i] for i in range(len(availabe_runes))])\n",
    "\n",
    "# Define the constraint\n",
    "prob += pulp.lpSum([availabe_runes[i].value * item_vars[i] for i in range(len(availabe_runes))]) >= L\n",
    "\n",
    "# Solve the problem\n",
    "prob.solve()\n",
    "# Print the results\n",
    "print(\"Status:\", pulp.LpStatus[prob.status])\n",
    "print(\"Optimal number of items to use:\")\n",
    "for i, rune in enumerate(availabe_runes):\n",
    "    if item_vars[i].varValue > 0:\n",
    "        print(f\"{rune.name}: {item_vars[i].varValue}\")\n",
    "\n",
    "print(\"Total runes value:\", pulp.value(prob.objective))"
   ]
  },
  {
   "cell_type": "code",
   "execution_count": null,
   "metadata": {},
   "outputs": [],
   "source": []
  },
  {
   "cell_type": "code",
   "execution_count": 34,
   "metadata": {},
   "outputs": [
    {
     "name": "stdout",
     "output_type": "stream",
     "text": [
      "Status: Unbounded\n",
      "Optimal number of items to use:\n",
      "Lands Between Rune: 0.0\n",
      "Golden Rune [1]: 0.0\n",
      "Golden Rune [2]: 0.0\n",
      "Golden Rune [3]: 0.0\n",
      "Golden Rune [4]: 0.0\n",
      "Golden Rune [5]: 0.0\n",
      "Golden Rune [6]: 0.0\n",
      "Golden Rune [7]: 0.0\n",
      "Golden Rune [8]: 0.0\n",
      "Golden Rune [9]: 0.0\n",
      "Golden Rune [10]: 0.0\n",
      "Golden Rune [11]: 0.0\n",
      "Golden Rune [12]: 0.0\n",
      "Golden Rune [13]: 0.0\n",
      "Numen's Rune: 0.0\n",
      "Hero's Rune [1]: 0.0\n",
      "Hero's Rune [2]: 0.0\n",
      "Hero's Rune [3]: 0.0\n",
      "Hero's Rune [4]: 0.0\n",
      "Hero's Rune [5]: 0.0\n",
      "Lord's Rune: 0.0\n",
      "Total runes value: 0.0\n"
     ]
    }
   ],
   "source": [
    "\n",
    "# Print the results\n",
    "print(\"Status:\", pulp.LpStatus[prob.status])\n",
    "print(\"Optimal number of items to use:\")\n",
    "for i, rune in enumerate(availabe_runes):\n",
    "    print(f\"{rune.name}: {item_vars[i].varValue}\")\n",
    "\n",
    "print(\"Total runes value:\", pulp.value(prob.objective))"
   ]
  },
  {
   "cell_type": "code",
   "execution_count": null,
   "metadata": {},
   "outputs": [],
   "source": [
    "app.declared_runes"
   ]
  },
  {
   "cell_type": "code",
   "execution_count": 53,
   "metadata": {},
   "outputs": [],
   "source": [
    "items = [\n",
    "    (3, 200, 'Golden_Rune_[1]'),\n",
    "    (2, 400, 'Golden_Rune_[2]'),\n",
    "    (2, 800, 'Golden_Rune_[3]')\n",
    "]\n",
    "\n",
    "nextLevelConstraint = 1204\n",
    "\n",
    "binCapacity = 3"
   ]
  },
  {
   "cell_type": "code",
   "execution_count": 54,
   "metadata": {},
   "outputs": [],
   "source": [
    "x = pulp.LpVariable.dicts(\n",
    "    'item',\n",
    "    range(nextLevelConstraint),\n",
    "    cat='Integer'\n",
    ")"
   ]
  },
  {
   "cell_type": "code",
   "execution_count": 46,
   "metadata": {},
   "outputs": [],
   "source": [
    "from pulp import *"
   ]
  },
  {
   "cell_type": "code",
   "execution_count": 55,
   "metadata": {},
   "outputs": [],
   "source": [
    "# Initialize the problem and specify the type\n",
    "problem = LpProblem(\"Runes\", LpMinimize)\n",
    "\n",
    "# Add the objective function\n",
    "problem += lpSum([ x[i] * (items[i])[0] for i in range(len(items)) ]), \"Objective: Maximize value\"\n",
    "\n",
    "# Capacity constraint: the sum of the weights must be less than the capacity\n",
    "problem += lpSum([ x[i] * (items[i])[1] for i in range(itemCount) ]) <= binCapacity, \"Constraint: Max capacity\""
   ]
  }
 ],
 "metadata": {
  "kernelspec": {
   "display_name": "dan",
   "language": "python",
   "name": "python3"
  },
  "language_info": {
   "codemirror_mode": {
    "name": "ipython",
    "version": 3
   },
   "file_extension": ".py",
   "mimetype": "text/x-python",
   "name": "python",
   "nbconvert_exporter": "python",
   "pygments_lexer": "ipython3",
   "version": "3.12.6"
  }
 },
 "nbformat": 4,
 "nbformat_minor": 2
}
